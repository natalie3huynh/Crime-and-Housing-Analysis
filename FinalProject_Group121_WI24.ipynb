{
 "cells": [
  {
   "cell_type": "markdown",
   "metadata": {},
   "source": [
    "# COGS 108 - Understanding Housing Value v.s. Crime Rate\n",
    "\n",
    "# Permissions\n",
    "\n",
    "Place an `X` in the appropriate bracket below to specify if you would like your group's project to be made available to the public. (Note that student names will be included (but PIDs will be scraped from any groups who include their PIDs).\n",
    "\n",
    "* [`X`] YES - make available\n",
    "* [  ] NO - keep private\n",
    "\n",
    "# Names\n",
    "\n",
    "- Natalie Huynh\n",
    "- Jasmine Tran\n",
    "- Jan Daguio\n",
    "- Edward Jin\n",
    "- James Olichney\n",
    "\n",
    "# Abstract\n",
    "\n",
    "In this project, we decided to explore the relationship between housing value and crime rate across major cities in the United States. We embarked on this project because we wanted to share some insights into major cities for those looking into a place to settle (such as when having to choose between different jobs, location can play an important role). The specific focus on crime rate is largely because this is the major factor that most people think of when deciding how safe a place is. \n",
    "\n",
    "To conduct our analysis, we focused on two specific data sets: the Zillow Home Value Index (ZHVI) for Single-Family Homes and FBI Crime Rate data collected by the FBI. Since the FBI crime data came from the year 2022, we decided to also focus on ZHVI values over 2022. After data cleaning, the two datasets contained each City and State so we could join the two datasets together into one. From there, we took a look at the overall trend between ZHVI and Crime Rate. Then, we grouped each city by the region it is in (West, Midwest, South, and North) and took a look at trends within each region. \n",
    "\n",
    "When we took a look at trends within each region using Spearman’s correlation, we got northeast being around -0.49, midwest being around -0.65, south being around -0.56, and the west being around -0.42. While all show a general negative trend between ZHVI and Crime Rate, the values are not strong enough (absolute value at least 0.7) to demonstrate that cities with higher housing values are associated with lower crime rates."
   ]
  },
  {
   "cell_type": "markdown",
   "metadata": {},
   "source": [
    "# Research Question"
   ]
  },
  {
   "cell_type": "markdown",
   "metadata": {},
   "source": [
    "\n",
    "Is there a connection between violent crime rate (reported to FBI) and single family housing values (based on the Zillow Home Value Index) in American cities? Does the relationship between violent crime and single family housing values change between different regions of the United States? "
   ]
  },
  {
   "cell_type": "markdown",
   "metadata": {},
   "source": [
    "## Background and Prior Work"
   ]
  },
  {
   "cell_type": "markdown",
   "metadata": {},
   "source": [
    "It’s not surprising that big cities are often people’s first choices to live in. After all, it’s hard to beat the job opportunities, various amenities (restaurants, theaters, parks, etc.), access to public transit, and lively atmosphere that comes with it <a name=\"cite_ref-1\"></a>[<sup>1</sup>](#cite_note-1). When choosing where to live, prospective residents have interest in living in a city environment, but would rather avoid living in a city with high crime rates. “Safety” is important to prospective residents and is considered to be one of the three main factors that make a city “livable” according to journals such as World Economic Forum <a name=\"cite_ref-2\"></a>[<sup>2</sup>](#cite_note-2). \n",
    "\n",
    "But what exactly does \"safety\" mean? There can be various factors that contribute to what it means to be safe. For example, safety can also come from how prepared and well-constructed the city is to face natural disasters <a name=\"cite_ref-5\"></a>[<sup>5</sup>](#cite_note-5). Additionally, safety can also come from the level of pollution in the city and generally how sanitary it is <a name=\"cite_ref-5\"></a>[<sup>5</sup>](#cite_note-5). However, generally speaking, when people think of the level of safety, crime rate is the first to come to mind.\n",
    "\n",
    "We also want to note that our project will be specifically measuring the violent crime rate, which excludes crimes such as theft or property crimes. Violent crimes include: robbery, rape, sexual assault, assualt and murder <a name=\"cite_ref-6\"></a>[<sup>6</sup>](#cite_note-5). While theft and property crimes are awful, we believe that violent crime rate is the best measure for this project because prospective house buyers, often living with family, may be most concerned about their physical wellbeing and the health of their family. Our project focuses on prospective home buyers who may live with some part of their family. As such, our dataset on housing is focused on the prices of single family homes.\n",
    "\n",
    "Some prior works include:\n",
    "- A study done by USAFacts that explores the prevalence of different types of crime across different cities in the USA <a name=\"cite_ref-3\"></a>[<sup>3</sup>](#cite_note-3). \n",
    "    - They wanted to answer the question: \"Which cities have the highest or lowest crime rates?\" in the year 2021.\n",
    "    - To answer this question, they looked at crime rate per city data released by the FBI. Additionally, two categories of crimes were looked at: violent crimes and property crimes. Violent crimes involve homicide, rape, robbery, and aggravated assault. Property crimes actions like theft. \n",
    "    - An interesting trend noticed is that both property crime and violent crime slightly decreased in 2021. When looking at violent crime, Memphis, Tennessee, experienced the highest violent crime rate. When looking at property crime, Tacoma, Washington experienced the highest property crime rate.\n",
    "    - This study relates to what we are doing because there is a focus on identifying which cities have the highest crime rates. However, we plan to connect these crime rates with other trends like trends in housing evaluation prices. \n",
    "- A ranking reported by Yahoo Finance recommends 30 cities that are both affordable and relatively safe <a name=\"cite_ref-4\"></a>[<sup>4</sup>](#cite_note-4). \n",
    "    - In this particular work, the authors wanted to answer the question of what are some of America’s safest & affordable places to live.\n",
    "    - The study references the work of GOBankingRates, which conducted a study to determine the safest and most economical cities to reside in America. They achieved this by evaluating the crime rates and the expenses associated with housing, rent, groceries, utilities, and transportation in the 200 largest cities across the United States.\n",
    "    - The report mentions that Brownsville, Texas is the best place in the U.S. in terms of safety and affordability (based on how they defined it in the study as mentioned in the previous bullet point). \n",
    "    - This work related to our work because we also hope to establish a ranking for people so they can find the safest city that is also within their price range. However, our rankings will be done within stratas: for example, among cities within a certain price range, which are the safest? Furthermore, instead of just producing a list, we also aim to provide geospatial visualizations.   "
   ]
  },
  {
   "cell_type": "markdown",
   "metadata": {},
   "source": [
    "# Hypothesis\n"
   ]
  },
  {
   "cell_type": "markdown",
   "metadata": {},
   "source": [
    "We hypothesize that cities with higher housing values (based on the Zillow Home Value Index) tend to have lower crime rates, making them safer, while cities with lower housing values may exhibit higher crime rates, indicating they are less safe. This is because we would expect more expensive cities to have better resources in place to prevent crime from happening."
   ]
  },
  {
   "cell_type": "markdown",
   "metadata": {},
   "source": [
    "# Data"
   ]
  },
  {
   "cell_type": "markdown",
   "metadata": {},
   "source": [
    "## ZHVI (Zillow Home Value Index) Single-Family Homes Time Series By City Dataset"
   ]
  },
  {
   "cell_type": "markdown",
   "metadata": {},
   "source": [
    "- Dataset Name: ZHVI Single-Family Homes Time Series By City\n",
    "- Link to the dataset: https://www.zillow.com/research/data/ \n",
    "- Number of observations: 21,548 observations (before cleaning)\n",
    "- Number of variables: 298 variables/columns (before cleaning)\n",
    "\n",
    "Description: This data set comes from from Zillow and presents the ZHVI of single-family homes over time for various cities. Each observation (or city) has columns for each month for each year from 2000 to January 2024. In each of these columns is the ZHVI given to that city for Single-Family homes for that month and year. Other variables include Region ID, SizeRank, RegionName, StateName, State, City, Metro, and CountyName. For our purposes, we will be using “City” to identify locations and the ZHVI for months starting from the year 2022 once this dataset is cleaned. We intend to average the ZHVI for 2022 across the 12 months. "
   ]
  },
  {
   "cell_type": "code",
   "execution_count": 3,
   "metadata": {},
   "outputs": [],
   "source": [
    "# import pandas and numpy library\n",
    "import pandas as pd\n",
    "import numpy as np\n",
    "\n",
    "# import seaborn and apply plotting styles\n",
    "import seaborn as sns\n",
    "sns.set(font_scale=2, style=\"white\")\n",
    "\n",
    "# import matplotlib\n",
    "import matplotlib as mpl\n",
    "import matplotlib.pyplot as plt\n",
    "import matplotlib.style as style\n",
    "\n",
    "# set plotting size parameter\n",
    "plt.rcParams['figure.figsize'] = (17, 7)"
   ]
  },
  {
   "cell_type": "code",
   "execution_count": 6,
   "metadata": {},
   "outputs": [
    {
     "data": {
      "text/html": [
       "<div>\n",
       "<style scoped>\n",
       "    .dataframe tbody tr th:only-of-type {\n",
       "        vertical-align: middle;\n",
       "    }\n",
       "\n",
       "    .dataframe tbody tr th {\n",
       "        vertical-align: top;\n",
       "    }\n",
       "\n",
       "    .dataframe thead th {\n",
       "        text-align: right;\n",
       "    }\n",
       "</style>\n",
       "<table border=\"1\" class=\"dataframe\">\n",
       "  <thead>\n",
       "    <tr style=\"text-align: right;\">\n",
       "      <th></th>\n",
       "      <th>City</th>\n",
       "      <th>State</th>\n",
       "      <th>average_2022</th>\n",
       "    </tr>\n",
       "  </thead>\n",
       "  <tbody>\n",
       "    <tr>\n",
       "      <th>0</th>\n",
       "      <td>New York</td>\n",
       "      <td>NY</td>\n",
       "      <td>770908.869625</td>\n",
       "    </tr>\n",
       "    <tr>\n",
       "      <th>1</th>\n",
       "      <td>Los Angeles</td>\n",
       "      <td>CA</td>\n",
       "      <td>970853.303948</td>\n",
       "    </tr>\n",
       "    <tr>\n",
       "      <th>2</th>\n",
       "      <td>Houston</td>\n",
       "      <td>TX</td>\n",
       "      <td>261546.063971</td>\n",
       "    </tr>\n",
       "    <tr>\n",
       "      <th>3</th>\n",
       "      <td>Chicago</td>\n",
       "      <td>IL</td>\n",
       "      <td>283114.011933</td>\n",
       "    </tr>\n",
       "    <tr>\n",
       "      <th>4</th>\n",
       "      <td>San Antonio</td>\n",
       "      <td>TX</td>\n",
       "      <td>257943.551527</td>\n",
       "    </tr>\n",
       "  </tbody>\n",
       "</table>\n",
       "</div>"
      ],
      "text/plain": [
       "          City State   average_2022\n",
       "0     New York    NY  770908.869625\n",
       "1  Los Angeles    CA  970853.303948\n",
       "2      Houston    TX  261546.063971\n",
       "3      Chicago    IL  283114.011933\n",
       "4  San Antonio    TX  257943.551527"
      ]
     },
     "execution_count": 6,
     "metadata": {},
     "output_type": "execute_result"
    }
   ],
   "source": [
    "housing = pd.read_csv('City_zhvi_uc_sfr_tier_0.33_0.67_sm_sa_month.csv')\n",
    "\n",
    "\n",
    "columns_2022 = ['2022-01-31', '2022-02-28', '2022-03-31', '2022-04-30', '2022-05-31', '2022-06-30', '2022-07-31', '2022-08-31', '2022-09-30', '2022-10-31', '2022-11-30', '2022-12-31']\n",
    "housing['average_2022'] = housing[columns_2022].mean(axis=1)\n",
    "\n",
    "\n",
    "housing = housing[['RegionName', 'State', 'average_2022']]\n",
    "\n",
    "# renaming RegionName to City since all region types are cities\n",
    "\n",
    "housing = housing.rename(columns = {'RegionName': 'City'})\n",
    "\n",
    "housing.head()"
   ]
  },
  {
   "cell_type": "code",
   "execution_count": 3,
   "metadata": {},
   "outputs": [
    {
     "data": {
      "text/plain": [
       "51"
      ]
     },
     "execution_count": 3,
     "metadata": {},
     "output_type": "execute_result"
    }
   ],
   "source": [
    "#check to see how many states have home value index data\n",
    "len(housing['State'].unique())"
   ]
  },
  {
   "cell_type": "markdown",
   "metadata": {},
   "source": [
    "All 50 states are included in the home value index data (the 51st value is Washington DC. which will be removed below since it is not a state)."
   ]
  },
  {
   "cell_type": "markdown",
   "metadata": {},
   "source": [
    "## FBI Violent Crime Rate Dataset"
   ]
  },
  {
   "cell_type": "markdown",
   "metadata": {},
   "source": [
    "- Dataset Name: FBI Crime Rate Dataset\n",
    "- Link to the dataset: https://usafacts.org/articles/how-does-crime-compare-by-city-in-2021/\n",
    "- Number of observations: 188 (before cleaning)\n",
    "- Number of variables: 4 (before cleaning)\n",
    "\n",
    "Description: This origins of the data set comes from the violent crime collected in the first three quarters of 2022 by the FBI for 188 US cities with populations over 100,000. USAFacts was able to provide this data through a direct download from their website. The important columns in this dataset are ADDRESS / PLACE and Violent Crime Rate. We will drop the LAT and LON columns given since that is not necessary for our purposes. The ADDRESS / PLACE variable is of type string and Violent Crime Rate is of type float. For Violent Crime Rate, it is the number of recorded violent crimes per 100,000 people. Finally, there are 188 observations, or the 188 US cities with populations over 100,000 that this dataset focuses on. This is 188 out of a total of 333 cities with a population over 100,000 in the USA<a name=\"cite_ref-7\"></a>[<sup>7</sup>](#cite_note-7). Unfortunately, our data might not get a complete picture of US cities. We discuss concerns with this incomplete data further in our Ethics and Privacy Section. "
   ]
  },
  {
   "cell_type": "code",
   "execution_count": 10,
   "metadata": {},
   "outputs": [
    {
     "name": "stdout",
     "output_type": "stream",
     "text": [
      "Requirement already satisfied: us in /Users/nataliehuynh/anaconda3/lib/python3.10/site-packages (3.1.1)\r\n",
      "Requirement already satisfied: jellyfish==0.11.2 in /Users/nataliehuynh/anaconda3/lib/python3.10/site-packages (from us) (0.11.2)\r\n"
     ]
    },
    {
     "data": {
      "text/html": [
       "<div>\n",
       "<style scoped>\n",
       "    .dataframe tbody tr th:only-of-type {\n",
       "        vertical-align: middle;\n",
       "    }\n",
       "\n",
       "    .dataframe tbody tr th {\n",
       "        vertical-align: top;\n",
       "    }\n",
       "\n",
       "    .dataframe thead th {\n",
       "        text-align: right;\n",
       "    }\n",
       "</style>\n",
       "<table border=\"1\" class=\"dataframe\">\n",
       "  <thead>\n",
       "    <tr style=\"text-align: right;\">\n",
       "      <th></th>\n",
       "      <th>City</th>\n",
       "      <th>State</th>\n",
       "      <th>Violent Crime Rate</th>\n",
       "    </tr>\n",
       "  </thead>\n",
       "  <tbody>\n",
       "    <tr>\n",
       "      <th>0</th>\n",
       "      <td>Memphis</td>\n",
       "      <td>TN</td>\n",
       "      <td>1720.086720</td>\n",
       "    </tr>\n",
       "    <tr>\n",
       "      <th>1</th>\n",
       "      <td>Little Rock</td>\n",
       "      <td>AR</td>\n",
       "      <td>1439.019469</td>\n",
       "    </tr>\n",
       "    <tr>\n",
       "      <th>2</th>\n",
       "      <td>Detroit</td>\n",
       "      <td>MI</td>\n",
       "      <td>1410.700185</td>\n",
       "    </tr>\n",
       "    <tr>\n",
       "      <th>3</th>\n",
       "      <td>Tacoma</td>\n",
       "      <td>WA</td>\n",
       "      <td>1191.981461</td>\n",
       "    </tr>\n",
       "    <tr>\n",
       "      <th>4</th>\n",
       "      <td>Pueblo</td>\n",
       "      <td>CO</td>\n",
       "      <td>1184.606293</td>\n",
       "    </tr>\n",
       "  </tbody>\n",
       "</table>\n",
       "</div>"
      ],
      "text/plain": [
       "          City State  Violent Crime Rate\n",
       "0      Memphis    TN         1720.086720\n",
       "1  Little Rock    AR         1439.019469\n",
       "2      Detroit    MI         1410.700185\n",
       "3       Tacoma    WA         1191.981461\n",
       "4       Pueblo    CO         1184.606293"
      ]
     },
     "execution_count": 10,
     "metadata": {},
     "output_type": "execute_result"
    }
   ],
   "source": [
    "!pip install us\n",
    "import us\n",
    "\n",
    "crime = pd.read_csv('crime.csv')\n",
    "\n",
    "crime.dtypes\n",
    "\n",
    "# eliminating irrelevant columns\n",
    "columns_to_drop = ['LAT', 'LON'] \n",
    "crime = crime.drop(columns=columns_to_drop) \n",
    "\n",
    "# reorganizing dataset to match columns and state abbreviations of second dataset\n",
    "split_val = crime['ADDRESS / PLACE'].str.split(',', expand=True)\n",
    "split_val.columns = ['City', 'State']\n",
    "crime = pd.concat([crime, split_val], axis=1)\n",
    "crime = crime.drop(columns=['ADDRESS / PLACE'])\n",
    "crime = crime[['City', 'State', 'Violent Crime Rate']]\n",
    "\n",
    "crime['State'] = crime['State'].apply(lambda x: us.states.lookup(x).abbr if us.states.lookup(x) else x) #chatgpt generated line to apply us library\n",
    "\n",
    "crime.head()"
   ]
  },
  {
   "cell_type": "code",
   "execution_count": 5,
   "metadata": {},
   "outputs": [
    {
     "data": {
      "text/plain": [
       "41"
      ]
     },
     "execution_count": 5,
     "metadata": {},
     "output_type": "execute_result"
    }
   ],
   "source": [
    "#check to see how many states have crime report data\n",
    "len(crime['State'].unique())"
   ]
  },
  {
   "cell_type": "markdown",
   "metadata": {},
   "source": [
    "Only 40 states are included in the crime report data (the 41st value is Washington DC. which will be removed below since it is not a state). This will be important when we merge datasets as 10 states will be excluded. "
   ]
  },
  {
   "cell_type": "markdown",
   "metadata": {},
   "source": [
    "# Results\n",
    "\n",
    "## Exploratory Data Analysis"
   ]
  },
  {
   "cell_type": "markdown",
   "metadata": {},
   "source": [
    "### Section 1: Distributions of Crime and ZHVI"
   ]
  },
  {
   "cell_type": "code",
   "execution_count": 6,
   "metadata": {},
   "outputs": [
    {
     "data": {
      "text/plain": [
       "City                  0\n",
       "State                 0\n",
       "Violent Crime Rate    0\n",
       "dtype: int64"
      ]
     },
     "execution_count": 6,
     "metadata": {},
     "output_type": "execute_result"
    }
   ],
   "source": [
    "# null values in crime\n",
    "crime.isnull().sum()"
   ]
  },
  {
   "cell_type": "markdown",
   "metadata": {},
   "source": [
    "We can see that in our re-formatted crime data there are no null values present. "
   ]
  },
  {
   "cell_type": "code",
   "execution_count": 7,
   "metadata": {},
   "outputs": [
    {
     "data": {
      "text/plain": [
       "City              0\n",
       "State             0\n",
       "average_2022    912\n",
       "dtype: int64"
      ]
     },
     "execution_count": 7,
     "metadata": {},
     "output_type": "execute_result"
    }
   ],
   "source": [
    "# null values in ZHVI\n",
    "housing.isnull().sum()"
   ]
  },
  {
   "cell_type": "markdown",
   "metadata": {},
   "source": [
    "We can see that in the average_2022 column for the reformatted ZHVI (Zillow Home Value Index) Single-Family Homes Time Series By City Dataset, there are 912 null values."
   ]
  },
  {
   "cell_type": "code",
   "execution_count": 8,
   "metadata": {},
   "outputs": [
    {
     "name": "stdout",
     "output_type": "stream",
     "text": [
      "Rows with null values in column 'B':\n",
      "                   City State  average_2022\n",
      "45            Rochester    NY           NaN\n",
      "690          Binghamton    NY           NaN\n",
      "903              Monroe    NY           NaN\n",
      "971           Hempstead    NY           NaN\n",
      "1075           Newburgh    NY           NaN\n",
      "...                 ...   ...           ...\n",
      "21506          McGuffey    OH           NaN\n",
      "21508  Stuyvesant Falls    NY           NaN\n",
      "21511      Derby Center    VT           NaN\n",
      "21524  Henderson Harbor    NY           NaN\n",
      "21534        Glenbeulah    WI           NaN\n",
      "\n",
      "[912 rows x 3 columns]\n"
     ]
    }
   ],
   "source": [
    "# print rows where column 'average_2022' is null\n",
    "null_rows = housing[housing['average_2022'].isnull()]\n",
    "print(\"Rows with null values in column 'B':\")\n",
    "print(null_rows)"
   ]
  },
  {
   "cell_type": "markdown",
   "metadata": {},
   "source": [
    "After taking a look at which cities were NULL, and taking a look at the original data, it appears that these cities had no ZHVI data for the year 2022. This means that these cities were only being included in the ZHVI calculations some time after the year 2022. our initial speculation as to why these cities appear to have no ZHVI calculations is likely that Zillow had little to no access to housing data for that particular city in the year 2022. The specific reasons for why Zillow was unable to have access to said data, we are unsure."
   ]
  },
  {
   "cell_type": "code",
   "execution_count": 9,
   "metadata": {},
   "outputs": [
    {
     "data": {
      "text/html": [
       "<div>\n",
       "<style scoped>\n",
       "    .dataframe tbody tr th:only-of-type {\n",
       "        vertical-align: middle;\n",
       "    }\n",
       "\n",
       "    .dataframe tbody tr th {\n",
       "        vertical-align: top;\n",
       "    }\n",
       "\n",
       "    .dataframe thead th {\n",
       "        text-align: right;\n",
       "    }\n",
       "</style>\n",
       "<table border=\"1\" class=\"dataframe\">\n",
       "  <thead>\n",
       "    <tr style=\"text-align: right;\">\n",
       "      <th></th>\n",
       "      <th>City</th>\n",
       "      <th>State</th>\n",
       "      <th>Violent Crime Rate</th>\n",
       "      <th>average_2022</th>\n",
       "    </tr>\n",
       "  </thead>\n",
       "  <tbody>\n",
       "    <tr>\n",
       "      <th>0</th>\n",
       "      <td>Memphis</td>\n",
       "      <td>TN</td>\n",
       "      <td>1720.086720</td>\n",
       "      <td>145509.404617</td>\n",
       "    </tr>\n",
       "    <tr>\n",
       "      <th>1</th>\n",
       "      <td>Little Rock</td>\n",
       "      <td>AR</td>\n",
       "      <td>1439.019469</td>\n",
       "      <td>198783.774528</td>\n",
       "    </tr>\n",
       "    <tr>\n",
       "      <th>2</th>\n",
       "      <td>Detroit</td>\n",
       "      <td>MI</td>\n",
       "      <td>1410.700185</td>\n",
       "      <td>71702.600692</td>\n",
       "    </tr>\n",
       "    <tr>\n",
       "      <th>3</th>\n",
       "      <td>Tacoma</td>\n",
       "      <td>WA</td>\n",
       "      <td>1191.981461</td>\n",
       "      <td>466892.232451</td>\n",
       "    </tr>\n",
       "    <tr>\n",
       "      <th>4</th>\n",
       "      <td>Pueblo</td>\n",
       "      <td>CO</td>\n",
       "      <td>1184.606293</td>\n",
       "      <td>290099.792223</td>\n",
       "    </tr>\n",
       "  </tbody>\n",
       "</table>\n",
       "</div>"
      ],
      "text/plain": [
       "          City State  Violent Crime Rate   average_2022\n",
       "0      Memphis    TN         1720.086720  145509.404617\n",
       "1  Little Rock    AR         1439.019469  198783.774528\n",
       "2      Detroit    MI         1410.700185   71702.600692\n",
       "3       Tacoma    WA         1191.981461  466892.232451\n",
       "4       Pueblo    CO         1184.606293  290099.792223"
      ]
     },
     "execution_count": 9,
     "metadata": {},
     "output_type": "execute_result"
    }
   ],
   "source": [
    "# merge the two data sets on City, State\n",
    "crime_and_housing_val = pd.merge(crime, housing, on=['City', 'State'])\n",
    "crime_and_housing_val.head()"
   ]
  },
  {
   "cell_type": "code",
   "execution_count": 10,
   "metadata": {},
   "outputs": [
    {
     "data": {
      "text/plain": [
       "array(['TN', 'AR', 'MI', 'WA', 'CO', 'MO', 'OH', 'IL', 'NM', 'CA', 'MN',\n",
       "       'TX', 'WI', 'LA', 'MD', 'OK', 'MT', 'SC', 'UT', 'MA', 'NC', 'AL',\n",
       "       'NY', 'GA', 'VA', 'IA', 'IN', 'ND', 'AZ', 'OR', 'NJ', 'SD', 'FL',\n",
       "       'NV', 'CT', 'NE', 'RI', 'KY', 'KS', 'ID'], dtype=object)"
      ]
     },
     "execution_count": 10,
     "metadata": {},
     "output_type": "execute_result"
    }
   ],
   "source": [
    "# check to see how many states remain in the merged dataset\n",
    "crime_and_housing_val['State'].unique()"
   ]
  },
  {
   "cell_type": "markdown",
   "metadata": {},
   "source": [
    "Not all states present in one dataset are in the other. In the above cell, we see which states are present after the merge. Although we are focusing on cities, this will be helpful in the next section when we take a look at correlations within each region in the U.S."
   ]
  },
  {
   "cell_type": "markdown",
   "metadata": {},
   "source": [
    "We can plot each variable in a histogram in order to gain insight into their distribution, uncover potential patterns, and identify any outliers. "
   ]
  },
  {
   "cell_type": "code",
   "execution_count": 11,
   "metadata": {},
   "outputs": [
    {
     "data": {
      "image/png": "[encoded data removed]",
      "text/plain": [
       "<Figure size 1700x700 with 1 Axes>"
      ]
     },
     "metadata": {},
     "output_type": "display_data"
    }
   ],
   "source": [
    "# histogram Violent Crime Rate\n",
    "sns.histplot(data = crime_and_housing_val, x = 'Violent Crime Rate', edgecolor = 'black').set(title = 'Distribution of Crime Rate')\n",
    "plt.xlabel('Violent Crime Rate (per 100,000 people)', fontsize=16);"
   ]
  },
  {
   "cell_type": "markdown",
   "metadata": {},
   "source": [
    "We can see a clear right-skew in the violent crime rate among the cities present. It looks like most of the cities have a violent crime rate less than 1000 (per 100,000 people). There doesn't appear to be any notable outliers but there are a couple of cities that have a violent crime rate above 1250 so let's see what they are. "
   ]
  },
  {
   "cell_type": "code",
   "execution_count": 12,
   "metadata": {},
   "outputs": [
    {
     "name": "stdout",
     "output_type": "stream",
     "text": [
      "          City State  Violent Crime Rate   average_2022\n",
      "0      Memphis    TN         1720.086720  145509.404617\n",
      "1  Little Rock    AR         1439.019469  198783.774528\n",
      "2      Detroit    MI         1410.700185   71702.600692\n"
     ]
    }
   ],
   "source": [
    "high_crime_cities = crime_and_housing_val[crime_and_housing_val['Violent Crime Rate'] > 1250]\n",
    "print(high_crime_cities)"
   ]
  },
  {
   "cell_type": "markdown",
   "metadata": {},
   "source": [
    "The above cities do not seem to have any relation."
   ]
  },
  {
   "cell_type": "markdown",
   "metadata": {},
   "source": [
    "Next, we can view the distribution of average ZHVI and compare it with the above histogram."
   ]
  },
  {
   "cell_type": "code",
   "execution_count": 13,
   "metadata": {},
   "outputs": [
    {
     "data": {
      "text/plain": [
       "Text(0.5, 0, 'Average ZHVI')"
      ]
     },
     "execution_count": 13,
     "metadata": {},
     "output_type": "execute_result"
    },
    {
     "data": {
      "image/png": "[encoded data removed]",
      "text/plain": [
       "<Figure size 1700x700 with 1 Axes>"
      ]
     },
     "metadata": {},
     "output_type": "display_data"
    }
   ],
   "source": [
    "# histogram average ZHVI In 2022\n",
    "sns.histplot(data=crime_and_housing_val, x='average_2022', edgecolor='black', color = 'orange')\n",
    "plt.title(\"Distribution of Average ZHVI in 2022\")\n",
    "plt.xlabel('Average ZHVI')"
   ]
  },
  {
   "cell_type": "markdown",
   "metadata": {},
   "source": [
    "Again, we can see a clear right-skew in the average ZHVI among the cities present. It looks like most of the cities we have have an average ZHVI of less than 1,000,000. There are a few cities outside of that range so let's see what they are. "
   ]
  },
  {
   "cell_type": "code",
   "execution_count": 14,
   "metadata": {},
   "outputs": [
    {
     "data": {
      "image/png": "[encoded data removed]",
      "text/plain": [
       "<Figure size 1700x700 with 1 Axes>"
      ]
     },
     "metadata": {},
     "output_type": "display_data"
    }
   ],
   "source": [
    "# box plot ZHVI in 2022 (to see outliers)\n",
    "sns.boxplot(x='average_2022', data=crime_and_housing_val, color = 'orange')\n",
    "plt.xlabel('Average ZHVI in 2022', fontsize=16);"
   ]
  },
  {
   "cell_type": "code",
   "execution_count": 15,
   "metadata": {},
   "outputs": [
    {
     "name": "stdout",
     "output_type": "stream",
     "text": [
      "            City State  Violent Crime Rate  average_2022\n",
      "92     San Diego    CA          314.566455  1.024841e+06\n",
      "99     Cambridge    MA          295.811798  1.663848e+06\n",
      "112  Santa Clara    CA          249.675648  1.639004e+06\n",
      "113      Burbank    CA          248.775787  1.166892e+06\n",
      "126     Torrance    CA          201.154514  1.147366e+06\n",
      "140    Sunnyvale    CA          162.858993  2.106102e+06\n",
      "143     Carlsbad    CA          151.758079  1.442630e+06\n",
      "156     Bellevue    WA          119.833830  1.605321e+06\n"
     ]
    }
   ],
   "source": [
    "# Calculate Q1, Q3, and IQR\n",
    "Q1 = crime_and_housing_val['average_2022'].quantile(0.25)\n",
    "Q3 = crime_and_housing_val['average_2022'].quantile(0.75)\n",
    "IQR = Q3 - Q1\n",
    "\n",
    "# Define lower and upper thresholds for outliers\n",
    "lower_threshold = Q1 - 1.5 * IQR\n",
    "upper_threshold = Q3 + 1.5 * IQR\n",
    "\n",
    "# Get outlier observations\n",
    "outliers = crime_and_housing_val[(crime_and_housing_val['average_2022'] < lower_threshold) | (crime_and_housing_val['average_2022'] > upper_threshold)]\n",
    "\n",
    "print(outliers)"
   ]
  },
  {
   "cell_type": "markdown",
   "metadata": {},
   "source": [
    "An interesting observation to note is that most of the outliers are from the West Coast (mainly California).\n",
    "\n"
   ]
  },
  {
   "cell_type": "markdown",
   "metadata": {},
   "source": [
    "We can then plot these two variables together in a scatterplot in order to uncover any potential trends at a glance. "
   ]
  },
  {
   "cell_type": "code",
   "execution_count": 16,
   "metadata": {},
   "outputs": [
    {
     "data": {
      "image/png": "[encoded data removed]",
      "text/plain": [
       "<Figure size 1700x700 with 1 Axes>"
      ]
     },
     "metadata": {},
     "output_type": "display_data"
    }
   ],
   "source": [
    "# Scatter plot\n",
    "crime_and_housing_val.plot.scatter(x='Violent Crime Rate', y='average_2022', color='blue', marker='o', s=50)\n",
    "\n",
    "# Set plot labels and title\n",
    "plt.xlabel('Violent Crime Rate (per 100,000 people)')\n",
    "plt.ylabel('ZHVI 2022 Average')\n",
    "plt.title('Scatter Plot of Violent Crime Rate & ZHVI 2022 Average')\n",
    "\n",
    "# Show the plot\n",
    "plt.show()"
   ]
  },
  {
   "cell_type": "markdown",
   "metadata": {},
   "source": [
    "We can see a non-linear, downward trend shown. Since the scatterplot fails to show a linear correlation between Violent Crime Rate and Home Value Indices, we will be conducting a Spearman Correlation test instead to analyze these variables. "
   ]
  },
  {
   "cell_type": "code",
   "execution_count": 17,
   "metadata": {},
   "outputs": [
    {
     "data": {
      "text/plain": [
       "-0.45732115342284835"
      ]
     },
     "execution_count": 17,
     "metadata": {},
     "output_type": "execute_result"
    }
   ],
   "source": [
    "# spearman correlation test\n",
    "crime_and_housing_val['Violent Crime Rate'].corr(crime_and_housing_val['average_2022'], method='spearman')"
   ]
  },
  {
   "cell_type": "markdown",
   "metadata": {},
   "source": [
    "The spearman correlation for crime rates and housing values across the U.S. is about -0.45. This means that the ZHVI Average in 2022 tends to decrease when Violent Crime Rate increases and vice versa. While this indicates a moderately strong correlation between the two variables, we are interested in seeing how this correlation may differ based on which region of the U.S. a city is located in. "
   ]
  },
  {
   "cell_type": "markdown",
   "metadata": {},
   "source": [
    "### Section 2: Region Breakdown\n",
    "\n",
    "Here, we will be focusing on states within the four regions of the United States as defined by the U.S. Census <a name=\"cite_ref-10\"></a>[<sup>10</sup>](#cite_note-10) to see if there are trends within cities of these states which could potentially show a stronger correlation between crime rates and housing value indices on the individual region level."
   ]
  },
  {
   "cell_type": "code",
   "execution_count": 18,
   "metadata": {},
   "outputs": [
    {
     "name": "stdout",
     "output_type": "stream",
     "text": [
      "['MS', 'WV', 'ME', 'HI', 'AK', 'DE', 'WY', 'PA', 'NH', 'VT']\n"
     ]
    }
   ],
   "source": [
    "# list of regions as defined by the U.S. Census\n",
    "northeast = ['Connecticut', 'Maine', 'Massachusetts', 'New Hampshire', 'Rhode Island', 'Vermont', 'New Jersey', 'New York', 'Pennsylvania']\n",
    "northeast = [us.states.lookup(state).abbr if us.states.lookup(state) else state for state in northeast]\n",
    "\n",
    "midwest = ['Illinois', 'Indiana', 'Michigan', 'Ohio', 'Wisconsin', 'Iowa', 'Kansas', 'Minnesota', 'Missouri', 'Nebraska', 'North Dakota', 'South Dakota']\n",
    "midwest = [us.states.lookup(state).abbr if us.states.lookup(state) else state for state in midwest]\n",
    "\n",
    "south = ['Delaware', 'Florida', 'Georgia', 'Maryland', 'North Carolina', 'South Carolina', 'Virginia', 'West Virginia', 'Alabama', 'Kentucky', 'Mississippi', 'Tennessee', 'Arkansas', 'Louisiana', 'Oklahoma', 'Texas']\n",
    "south = [us.states.lookup(state).abbr if us.states.lookup(state) else state for state in south]\n",
    "\n",
    "west = ['Arizona', 'Colorado', 'Idaho', 'Montana', 'Nevada', 'New Mexico', 'Utah', 'Wyoming', 'Alaska', 'California', 'Hawaii', 'Oregon', 'Washington']\n",
    "west = [us.states.lookup(state).abbr if us.states.lookup(state) else state for state in west]\n",
    "\n",
    "#determine which states are excluded\n",
    "all_states = northeast + midwest + south + west\n",
    "crime_housing_states = list(crime_and_housing_val['State'].unique()) #all states included in crime_and_housing_val\n",
    "excluded_states = list(set(all_states) ^ set(crime_housing_states))\n",
    "print(excluded_states)"
   ]
  },
  {
   "cell_type": "markdown",
   "metadata": {},
   "source": [
    "As indicated before, while our data covers the majority of the United States, the above ten states will be excluded as they were not reported in the crime dataset."
   ]
  },
  {
   "cell_type": "code",
   "execution_count": 19,
   "metadata": {},
   "outputs": [
    {
     "data": {
      "text/html": [
       "<div>\n",
       "<style scoped>\n",
       "    .dataframe tbody tr th:only-of-type {\n",
       "        vertical-align: middle;\n",
       "    }\n",
       "\n",
       "    .dataframe tbody tr th {\n",
       "        vertical-align: top;\n",
       "    }\n",
       "\n",
       "    .dataframe thead th {\n",
       "        text-align: right;\n",
       "    }\n",
       "</style>\n",
       "<table border=\"1\" class=\"dataframe\">\n",
       "  <thead>\n",
       "    <tr style=\"text-align: right;\">\n",
       "      <th></th>\n",
       "      <th>City</th>\n",
       "      <th>State</th>\n",
       "      <th>Region</th>\n",
       "      <th>Violent Crime Rate</th>\n",
       "      <th>average_2022</th>\n",
       "    </tr>\n",
       "  </thead>\n",
       "  <tbody>\n",
       "    <tr>\n",
       "      <th>0</th>\n",
       "      <td>Memphis</td>\n",
       "      <td>TN</td>\n",
       "      <td>South</td>\n",
       "      <td>1720.086720</td>\n",
       "      <td>145509.404617</td>\n",
       "    </tr>\n",
       "    <tr>\n",
       "      <th>1</th>\n",
       "      <td>Little Rock</td>\n",
       "      <td>AR</td>\n",
       "      <td>South</td>\n",
       "      <td>1439.019469</td>\n",
       "      <td>198783.774528</td>\n",
       "    </tr>\n",
       "    <tr>\n",
       "      <th>2</th>\n",
       "      <td>Detroit</td>\n",
       "      <td>MI</td>\n",
       "      <td>Midwest</td>\n",
       "      <td>1410.700185</td>\n",
       "      <td>71702.600692</td>\n",
       "    </tr>\n",
       "    <tr>\n",
       "      <th>3</th>\n",
       "      <td>Tacoma</td>\n",
       "      <td>WA</td>\n",
       "      <td>West</td>\n",
       "      <td>1191.981461</td>\n",
       "      <td>466892.232451</td>\n",
       "    </tr>\n",
       "    <tr>\n",
       "      <th>4</th>\n",
       "      <td>Pueblo</td>\n",
       "      <td>CO</td>\n",
       "      <td>West</td>\n",
       "      <td>1184.606293</td>\n",
       "      <td>290099.792223</td>\n",
       "    </tr>\n",
       "    <tr>\n",
       "      <th>...</th>\n",
       "      <td>...</td>\n",
       "      <td>...</td>\n",
       "      <td>...</td>\n",
       "      <td>...</td>\n",
       "      <td>...</td>\n",
       "    </tr>\n",
       "    <tr>\n",
       "      <th>172</th>\n",
       "      <td>McKinney</td>\n",
       "      <td>TX</td>\n",
       "      <td>South</td>\n",
       "      <td>70.234712</td>\n",
       "      <td>505959.907519</td>\n",
       "    </tr>\n",
       "    <tr>\n",
       "      <th>173</th>\n",
       "      <td>Pearland</td>\n",
       "      <td>TX</td>\n",
       "      <td>South</td>\n",
       "      <td>66.150587</td>\n",
       "      <td>356452.762507</td>\n",
       "    </tr>\n",
       "    <tr>\n",
       "      <th>174</th>\n",
       "      <td>Sugar Land</td>\n",
       "      <td>TX</td>\n",
       "      <td>South</td>\n",
       "      <td>65.607967</td>\n",
       "      <td>409801.285454</td>\n",
       "    </tr>\n",
       "    <tr>\n",
       "      <th>175</th>\n",
       "      <td>Cary</td>\n",
       "      <td>NC</td>\n",
       "      <td>South</td>\n",
       "      <td>62.452528</td>\n",
       "      <td>580048.247448</td>\n",
       "    </tr>\n",
       "    <tr>\n",
       "      <th>176</th>\n",
       "      <td>Carmel</td>\n",
       "      <td>IN</td>\n",
       "      <td>Midwest</td>\n",
       "      <td>45.393085</td>\n",
       "      <td>490957.958493</td>\n",
       "    </tr>\n",
       "  </tbody>\n",
       "</table>\n",
       "<p>177 rows × 5 columns</p>\n",
       "</div>"
      ],
      "text/plain": [
       "            City State   Region  Violent Crime Rate   average_2022\n",
       "0        Memphis    TN    South         1720.086720  145509.404617\n",
       "1    Little Rock    AR    South         1439.019469  198783.774528\n",
       "2        Detroit    MI  Midwest         1410.700185   71702.600692\n",
       "3         Tacoma    WA     West         1191.981461  466892.232451\n",
       "4         Pueblo    CO     West         1184.606293  290099.792223\n",
       "..           ...   ...      ...                 ...            ...\n",
       "172     McKinney    TX    South           70.234712  505959.907519\n",
       "173     Pearland    TX    South           66.150587  356452.762507\n",
       "174   Sugar Land    TX    South           65.607967  409801.285454\n",
       "175         Cary    NC    South           62.452528  580048.247448\n",
       "176       Carmel    IN  Midwest           45.393085  490957.958493\n",
       "\n",
       "[177 rows x 5 columns]"
      ]
     },
     "execution_count": 19,
     "metadata": {},
     "output_type": "execute_result"
    }
   ],
   "source": [
    "#add new Region Column and assign Region to every City, State\n",
    "\n",
    "crime_and_housing_val['Region'] = ''\n",
    "\n",
    "for i in range(len(crime_and_housing_val)): \n",
    "    \n",
    "    state = crime_and_housing_val.loc[i, 'State']\n",
    "    col = crime_and_housing_val.pop('Region')\n",
    "    crime_and_housing_val.insert(2, col.name, col)\n",
    "    \n",
    "    if state in northeast:\n",
    "        crime_and_housing_val.loc[i, 'Region'] = 'Northeast'\n",
    "    \n",
    "    elif state in midwest:\n",
    "        crime_and_housing_val.loc[i, 'Region'] = 'Midwest'\n",
    "    \n",
    "    elif state in south:\n",
    "        crime_and_housing_val.loc[i, 'Region'] = 'South'\n",
    "    \n",
    "    elif state in west:\n",
    "        crime_and_housing_val.loc[i, 'Region'] = 'West'\n",
    "    \n",
    "    else:\n",
    "        crime_and_housing_val.loc[i, 'Region'] = np.nan\n",
    "        \n",
    "crime_and_housing_val"
   ]
  },
  {
   "cell_type": "markdown",
   "metadata": {},
   "source": [
    "From a quick glance, we can check if the cities with the highest crime rate also have the lowest home value index as hypothesized."
   ]
  },
  {
   "cell_type": "code",
   "execution_count": 20,
   "metadata": {},
   "outputs": [
    {
     "data": {
      "text/html": [
       "<div>\n",
       "<style scoped>\n",
       "    .dataframe tbody tr th:only-of-type {\n",
       "        vertical-align: middle;\n",
       "    }\n",
       "\n",
       "    .dataframe tbody tr th {\n",
       "        vertical-align: top;\n",
       "    }\n",
       "\n",
       "    .dataframe thead th {\n",
       "        text-align: right;\n",
       "    }\n",
       "</style>\n",
       "<table border=\"1\" class=\"dataframe\">\n",
       "  <thead>\n",
       "    <tr style=\"text-align: right;\">\n",
       "      <th></th>\n",
       "      <th>City</th>\n",
       "      <th>State</th>\n",
       "      <th>Region</th>\n",
       "      <th>Violent Crime Rate</th>\n",
       "      <th>average_2022</th>\n",
       "    </tr>\n",
       "  </thead>\n",
       "  <tbody>\n",
       "    <tr>\n",
       "      <th>0</th>\n",
       "      <td>Memphis</td>\n",
       "      <td>TN</td>\n",
       "      <td>South</td>\n",
       "      <td>1720.086720</td>\n",
       "      <td>145509.404617</td>\n",
       "    </tr>\n",
       "    <tr>\n",
       "      <th>1</th>\n",
       "      <td>Little Rock</td>\n",
       "      <td>AR</td>\n",
       "      <td>South</td>\n",
       "      <td>1439.019469</td>\n",
       "      <td>198783.774528</td>\n",
       "    </tr>\n",
       "    <tr>\n",
       "      <th>2</th>\n",
       "      <td>Detroit</td>\n",
       "      <td>MI</td>\n",
       "      <td>Midwest</td>\n",
       "      <td>1410.700185</td>\n",
       "      <td>71702.600692</td>\n",
       "    </tr>\n",
       "    <tr>\n",
       "      <th>3</th>\n",
       "      <td>Tacoma</td>\n",
       "      <td>WA</td>\n",
       "      <td>West</td>\n",
       "      <td>1191.981461</td>\n",
       "      <td>466892.232451</td>\n",
       "    </tr>\n",
       "    <tr>\n",
       "      <th>4</th>\n",
       "      <td>Pueblo</td>\n",
       "      <td>CO</td>\n",
       "      <td>West</td>\n",
       "      <td>1184.606293</td>\n",
       "      <td>290099.792223</td>\n",
       "    </tr>\n",
       "    <tr>\n",
       "      <th>5</th>\n",
       "      <td>Kansas City</td>\n",
       "      <td>MO</td>\n",
       "      <td>Midwest</td>\n",
       "      <td>1081.911910</td>\n",
       "      <td>210740.968194</td>\n",
       "    </tr>\n",
       "    <tr>\n",
       "      <th>6</th>\n",
       "      <td>Cleveland</td>\n",
       "      <td>OH</td>\n",
       "      <td>Midwest</td>\n",
       "      <td>1020.792854</td>\n",
       "      <td>93961.144621</td>\n",
       "    </tr>\n",
       "    <tr>\n",
       "      <th>7</th>\n",
       "      <td>Rockford</td>\n",
       "      <td>IL</td>\n",
       "      <td>Midwest</td>\n",
       "      <td>1019.947649</td>\n",
       "      <td>122201.509627</td>\n",
       "    </tr>\n",
       "    <tr>\n",
       "      <th>8</th>\n",
       "      <td>Springfield</td>\n",
       "      <td>MO</td>\n",
       "      <td>Midwest</td>\n",
       "      <td>1019.599025</td>\n",
       "      <td>205276.798147</td>\n",
       "    </tr>\n",
       "    <tr>\n",
       "      <th>9</th>\n",
       "      <td>Albuquerque</td>\n",
       "      <td>NM</td>\n",
       "      <td>West</td>\n",
       "      <td>974.923203</td>\n",
       "      <td>295418.163826</td>\n",
       "    </tr>\n",
       "  </tbody>\n",
       "</table>\n",
       "</div>"
      ],
      "text/plain": [
       "          City State   Region  Violent Crime Rate   average_2022\n",
       "0      Memphis    TN    South         1720.086720  145509.404617\n",
       "1  Little Rock    AR    South         1439.019469  198783.774528\n",
       "2      Detroit    MI  Midwest         1410.700185   71702.600692\n",
       "3       Tacoma    WA     West         1191.981461  466892.232451\n",
       "4       Pueblo    CO     West         1184.606293  290099.792223\n",
       "5  Kansas City    MO  Midwest         1081.911910  210740.968194\n",
       "6    Cleveland    OH  Midwest         1020.792854   93961.144621\n",
       "7     Rockford    IL  Midwest         1019.947649  122201.509627\n",
       "8  Springfield    MO  Midwest         1019.599025  205276.798147\n",
       "9  Albuquerque    NM     West          974.923203  295418.163826"
      ]
     },
     "execution_count": 20,
     "metadata": {},
     "output_type": "execute_result"
    }
   ],
   "source": [
    "#check for city and region with the highest crime rate\n",
    "highest_crime = crime_and_housing_val.nlargest(10, 'Violent Crime Rate')\n",
    "highest_crime"
   ]
  },
  {
   "cell_type": "code",
   "execution_count": 21,
   "metadata": {},
   "outputs": [
    {
     "data": {
      "text/html": [
       "<div>\n",
       "<style scoped>\n",
       "    .dataframe tbody tr th:only-of-type {\n",
       "        vertical-align: middle;\n",
       "    }\n",
       "\n",
       "    .dataframe tbody tr th {\n",
       "        vertical-align: top;\n",
       "    }\n",
       "\n",
       "    .dataframe thead th {\n",
       "        text-align: right;\n",
       "    }\n",
       "</style>\n",
       "<table border=\"1\" class=\"dataframe\">\n",
       "  <thead>\n",
       "    <tr style=\"text-align: right;\">\n",
       "      <th></th>\n",
       "      <th>City</th>\n",
       "      <th>State</th>\n",
       "      <th>Region</th>\n",
       "      <th>Violent Crime Rate</th>\n",
       "      <th>average_2022</th>\n",
       "    </tr>\n",
       "  </thead>\n",
       "  <tbody>\n",
       "    <tr>\n",
       "      <th>2</th>\n",
       "      <td>Detroit</td>\n",
       "      <td>MI</td>\n",
       "      <td>Midwest</td>\n",
       "      <td>1410.700185</td>\n",
       "      <td>71702.600692</td>\n",
       "    </tr>\n",
       "    <tr>\n",
       "      <th>6</th>\n",
       "      <td>Cleveland</td>\n",
       "      <td>OH</td>\n",
       "      <td>Midwest</td>\n",
       "      <td>1020.792854</td>\n",
       "      <td>93961.144621</td>\n",
       "    </tr>\n",
       "    <tr>\n",
       "      <th>42</th>\n",
       "      <td>Toledo</td>\n",
       "      <td>OH</td>\n",
       "      <td>Midwest</td>\n",
       "      <td>561.233751</td>\n",
       "      <td>101776.843145</td>\n",
       "    </tr>\n",
       "    <tr>\n",
       "      <th>7</th>\n",
       "      <td>Rockford</td>\n",
       "      <td>IL</td>\n",
       "      <td>Midwest</td>\n",
       "      <td>1019.947649</td>\n",
       "      <td>122201.509627</td>\n",
       "    </tr>\n",
       "    <tr>\n",
       "      <th>13</th>\n",
       "      <td>Dayton</td>\n",
       "      <td>OH</td>\n",
       "      <td>Midwest</td>\n",
       "      <td>872.049316</td>\n",
       "      <td>126186.278726</td>\n",
       "    </tr>\n",
       "    <tr>\n",
       "      <th>12</th>\n",
       "      <td>Lansing</td>\n",
       "      <td>MI</td>\n",
       "      <td>Midwest</td>\n",
       "      <td>909.515123</td>\n",
       "      <td>127198.405260</td>\n",
       "    </tr>\n",
       "    <tr>\n",
       "      <th>0</th>\n",
       "      <td>Memphis</td>\n",
       "      <td>TN</td>\n",
       "      <td>South</td>\n",
       "      <td>1720.086720</td>\n",
       "      <td>145509.404617</td>\n",
       "    </tr>\n",
       "    <tr>\n",
       "      <th>71</th>\n",
       "      <td>Wichita Falls</td>\n",
       "      <td>TX</td>\n",
       "      <td>South</td>\n",
       "      <td>379.261956</td>\n",
       "      <td>152260.523466</td>\n",
       "    </tr>\n",
       "    <tr>\n",
       "      <th>27</th>\n",
       "      <td>Beaumont</td>\n",
       "      <td>TX</td>\n",
       "      <td>South</td>\n",
       "      <td>722.525805</td>\n",
       "      <td>153046.234882</td>\n",
       "    </tr>\n",
       "    <tr>\n",
       "      <th>49</th>\n",
       "      <td>Davenport</td>\n",
       "      <td>IA</td>\n",
       "      <td>Midwest</td>\n",
       "      <td>510.714216</td>\n",
       "      <td>161282.242731</td>\n",
       "    </tr>\n",
       "  </tbody>\n",
       "</table>\n",
       "</div>"
      ],
      "text/plain": [
       "             City State   Region  Violent Crime Rate   average_2022\n",
       "2         Detroit    MI  Midwest         1410.700185   71702.600692\n",
       "6       Cleveland    OH  Midwest         1020.792854   93961.144621\n",
       "42         Toledo    OH  Midwest          561.233751  101776.843145\n",
       "7        Rockford    IL  Midwest         1019.947649  122201.509627\n",
       "13         Dayton    OH  Midwest          872.049316  126186.278726\n",
       "12        Lansing    MI  Midwest          909.515123  127198.405260\n",
       "0         Memphis    TN    South         1720.086720  145509.404617\n",
       "71  Wichita Falls    TX    South          379.261956  152260.523466\n",
       "27       Beaumont    TX    South          722.525805  153046.234882\n",
       "49      Davenport    IA  Midwest          510.714216  161282.242731"
      ]
     },
     "execution_count": 21,
     "metadata": {},
     "output_type": "execute_result"
    }
   ],
   "source": [
    "#check for city and region with the lowest home value index\n",
    "lowest_home = crime_and_housing_val.nsmallest(10, 'average_2022')\n",
    "lowest_home"
   ]
  },
  {
   "cell_type": "markdown",
   "metadata": {},
   "source": [
    "Looking at the regions, the Midwest appears to be the region with the highest crime rate and lowest home value indices in both dataframes. There is no other outstanding repeats of cities or states in both dataframes."
   ]
  },
  {
   "cell_type": "code",
   "execution_count": 22,
   "metadata": {},
   "outputs": [
    {
     "data": {
      "text/html": [
       "<div>\n",
       "<style scoped>\n",
       "    .dataframe tbody tr th:only-of-type {\n",
       "        vertical-align: middle;\n",
       "    }\n",
       "\n",
       "    .dataframe tbody tr th {\n",
       "        vertical-align: top;\n",
       "    }\n",
       "\n",
       "    .dataframe thead th {\n",
       "        text-align: right;\n",
       "    }\n",
       "</style>\n",
       "<table border=\"1\" class=\"dataframe\">\n",
       "  <thead>\n",
       "    <tr style=\"text-align: right;\">\n",
       "      <th></th>\n",
       "      <th>City</th>\n",
       "      <th>State</th>\n",
       "      <th>Region</th>\n",
       "      <th>Violent Crime Rate</th>\n",
       "      <th>average_2022</th>\n",
       "    </tr>\n",
       "  </thead>\n",
       "  <tbody>\n",
       "    <tr>\n",
       "      <th>176</th>\n",
       "      <td>Carmel</td>\n",
       "      <td>IN</td>\n",
       "      <td>Midwest</td>\n",
       "      <td>45.393085</td>\n",
       "      <td>490957.958493</td>\n",
       "    </tr>\n",
       "    <tr>\n",
       "      <th>175</th>\n",
       "      <td>Cary</td>\n",
       "      <td>NC</td>\n",
       "      <td>South</td>\n",
       "      <td>62.452528</td>\n",
       "      <td>580048.247448</td>\n",
       "    </tr>\n",
       "    <tr>\n",
       "      <th>174</th>\n",
       "      <td>Sugar Land</td>\n",
       "      <td>TX</td>\n",
       "      <td>South</td>\n",
       "      <td>65.607967</td>\n",
       "      <td>409801.285454</td>\n",
       "    </tr>\n",
       "    <tr>\n",
       "      <th>173</th>\n",
       "      <td>Pearland</td>\n",
       "      <td>TX</td>\n",
       "      <td>South</td>\n",
       "      <td>66.150587</td>\n",
       "      <td>356452.762507</td>\n",
       "    </tr>\n",
       "    <tr>\n",
       "      <th>172</th>\n",
       "      <td>McKinney</td>\n",
       "      <td>TX</td>\n",
       "      <td>South</td>\n",
       "      <td>70.234712</td>\n",
       "      <td>505959.907519</td>\n",
       "    </tr>\n",
       "    <tr>\n",
       "      <th>171</th>\n",
       "      <td>Concord</td>\n",
       "      <td>NC</td>\n",
       "      <td>South</td>\n",
       "      <td>72.542258</td>\n",
       "      <td>352441.402643</td>\n",
       "    </tr>\n",
       "    <tr>\n",
       "      <th>170</th>\n",
       "      <td>Frisco</td>\n",
       "      <td>TX</td>\n",
       "      <td>South</td>\n",
       "      <td>72.836487</td>\n",
       "      <td>647267.557873</td>\n",
       "    </tr>\n",
       "    <tr>\n",
       "      <th>169</th>\n",
       "      <td>Virginia Beach</td>\n",
       "      <td>VA</td>\n",
       "      <td>South</td>\n",
       "      <td>73.903943</td>\n",
       "      <td>366295.028435</td>\n",
       "    </tr>\n",
       "    <tr>\n",
       "      <th>168</th>\n",
       "      <td>Gilbert</td>\n",
       "      <td>AZ</td>\n",
       "      <td>West</td>\n",
       "      <td>82.069019</td>\n",
       "      <td>585639.959502</td>\n",
       "    </tr>\n",
       "    <tr>\n",
       "      <th>167</th>\n",
       "      <td>Alexandria</td>\n",
       "      <td>VA</td>\n",
       "      <td>South</td>\n",
       "      <td>90.366890</td>\n",
       "      <td>668649.069040</td>\n",
       "    </tr>\n",
       "  </tbody>\n",
       "</table>\n",
       "</div>"
      ],
      "text/plain": [
       "               City State   Region  Violent Crime Rate   average_2022\n",
       "176          Carmel    IN  Midwest           45.393085  490957.958493\n",
       "175            Cary    NC    South           62.452528  580048.247448\n",
       "174      Sugar Land    TX    South           65.607967  409801.285454\n",
       "173        Pearland    TX    South           66.150587  356452.762507\n",
       "172        McKinney    TX    South           70.234712  505959.907519\n",
       "171         Concord    NC    South           72.542258  352441.402643\n",
       "170          Frisco    TX    South           72.836487  647267.557873\n",
       "169  Virginia Beach    VA    South           73.903943  366295.028435\n",
       "168         Gilbert    AZ     West           82.069019  585639.959502\n",
       "167      Alexandria    VA    South           90.366890  668649.069040"
      ]
     },
     "execution_count": 22,
     "metadata": {},
     "output_type": "execute_result"
    }
   ],
   "source": [
    "#check for city and region with the lowest crime rate\n",
    "lowest_crime = crime_and_housing_val.nsmallest(10, 'Violent Crime Rate')\n",
    "lowest_crime"
   ]
  },
  {
   "cell_type": "code",
   "execution_count": 23,
   "metadata": {},
   "outputs": [
    {
     "data": {
      "text/html": [
       "<div>\n",
       "<style scoped>\n",
       "    .dataframe tbody tr th:only-of-type {\n",
       "        vertical-align: middle;\n",
       "    }\n",
       "\n",
       "    .dataframe tbody tr th {\n",
       "        vertical-align: top;\n",
       "    }\n",
       "\n",
       "    .dataframe thead th {\n",
       "        text-align: right;\n",
       "    }\n",
       "</style>\n",
       "<table border=\"1\" class=\"dataframe\">\n",
       "  <thead>\n",
       "    <tr style=\"text-align: right;\">\n",
       "      <th></th>\n",
       "      <th>City</th>\n",
       "      <th>State</th>\n",
       "      <th>Region</th>\n",
       "      <th>Violent Crime Rate</th>\n",
       "      <th>average_2022</th>\n",
       "    </tr>\n",
       "  </thead>\n",
       "  <tbody>\n",
       "    <tr>\n",
       "      <th>140</th>\n",
       "      <td>Sunnyvale</td>\n",
       "      <td>CA</td>\n",
       "      <td>West</td>\n",
       "      <td>162.858993</td>\n",
       "      <td>2.106102e+06</td>\n",
       "    </tr>\n",
       "    <tr>\n",
       "      <th>99</th>\n",
       "      <td>Cambridge</td>\n",
       "      <td>MA</td>\n",
       "      <td>Northeast</td>\n",
       "      <td>295.811798</td>\n",
       "      <td>1.663848e+06</td>\n",
       "    </tr>\n",
       "    <tr>\n",
       "      <th>112</th>\n",
       "      <td>Santa Clara</td>\n",
       "      <td>CA</td>\n",
       "      <td>West</td>\n",
       "      <td>249.675648</td>\n",
       "      <td>1.639004e+06</td>\n",
       "    </tr>\n",
       "    <tr>\n",
       "      <th>156</th>\n",
       "      <td>Bellevue</td>\n",
       "      <td>WA</td>\n",
       "      <td>West</td>\n",
       "      <td>119.833830</td>\n",
       "      <td>1.605321e+06</td>\n",
       "    </tr>\n",
       "    <tr>\n",
       "      <th>143</th>\n",
       "      <td>Carlsbad</td>\n",
       "      <td>CA</td>\n",
       "      <td>West</td>\n",
       "      <td>151.758079</td>\n",
       "      <td>1.442630e+06</td>\n",
       "    </tr>\n",
       "    <tr>\n",
       "      <th>113</th>\n",
       "      <td>Burbank</td>\n",
       "      <td>CA</td>\n",
       "      <td>West</td>\n",
       "      <td>248.775787</td>\n",
       "      <td>1.166892e+06</td>\n",
       "    </tr>\n",
       "    <tr>\n",
       "      <th>126</th>\n",
       "      <td>Torrance</td>\n",
       "      <td>CA</td>\n",
       "      <td>West</td>\n",
       "      <td>201.154514</td>\n",
       "      <td>1.147366e+06</td>\n",
       "    </tr>\n",
       "    <tr>\n",
       "      <th>92</th>\n",
       "      <td>San Diego</td>\n",
       "      <td>CA</td>\n",
       "      <td>West</td>\n",
       "      <td>314.566455</td>\n",
       "      <td>1.024841e+06</td>\n",
       "    </tr>\n",
       "    <tr>\n",
       "      <th>36</th>\n",
       "      <td>Seattle</td>\n",
       "      <td>WA</td>\n",
       "      <td>West</td>\n",
       "      <td>598.921738</td>\n",
       "      <td>9.299236e+05</td>\n",
       "    </tr>\n",
       "    <tr>\n",
       "      <th>150</th>\n",
       "      <td>Scottsdale</td>\n",
       "      <td>AZ</td>\n",
       "      <td>West</td>\n",
       "      <td>137.868768</td>\n",
       "      <td>9.125854e+05</td>\n",
       "    </tr>\n",
       "  </tbody>\n",
       "</table>\n",
       "</div>"
      ],
      "text/plain": [
       "            City State     Region  Violent Crime Rate  average_2022\n",
       "140    Sunnyvale    CA       West          162.858993  2.106102e+06\n",
       "99     Cambridge    MA  Northeast          295.811798  1.663848e+06\n",
       "112  Santa Clara    CA       West          249.675648  1.639004e+06\n",
       "156     Bellevue    WA       West          119.833830  1.605321e+06\n",
       "143     Carlsbad    CA       West          151.758079  1.442630e+06\n",
       "113      Burbank    CA       West          248.775787  1.166892e+06\n",
       "126     Torrance    CA       West          201.154514  1.147366e+06\n",
       "92     San Diego    CA       West          314.566455  1.024841e+06\n",
       "36       Seattle    WA       West          598.921738  9.299236e+05\n",
       "150   Scottsdale    AZ       West          137.868768  9.125854e+05"
      ]
     },
     "execution_count": 23,
     "metadata": {},
     "output_type": "execute_result"
    }
   ],
   "source": [
    "#check for city and region with the highest home value index\n",
    "highest_home = crime_and_housing_val.nlargest(10, 'average_2022')\n",
    "highest_home"
   ]
  },
  {
   "cell_type": "markdown",
   "metadata": {},
   "source": [
    "While the South appears the most in the regions with the lowest crime rates, the West appears to be the Region with the highest home value index. "
   ]
  },
  {
   "cell_type": "markdown",
   "metadata": {},
   "source": [
    "From a quick glance, the city with the highest crime rate does not match the city with the lowest home value index. Similarly, the city with the lowest crime rate does not match the city the the highest home value index. However, the region with the highest crime rates do appear to match the region with the lowest home value indices. To better analyze these trends, we will be examining regions across the entire dataset to see if there are any interesting patterns overall among regions and their crime rates potentially correlating with their home value indices. First, we will need to see if the distribution of cities across regions are approximately the same."
   ]
  },
  {
   "cell_type": "code",
   "execution_count": 24,
   "metadata": {},
   "outputs": [
    {
     "data": {
      "text/plain": [
       "South        70\n",
       "West         62\n",
       "Midwest      32\n",
       "Northeast    13\n",
       "Name: Region, dtype: int64"
      ]
     },
     "execution_count": 24,
     "metadata": {},
     "output_type": "execute_result"
    }
   ],
   "source": [
    "#check to see how many cities are in each region\n",
    "crime_and_housing_val['Region'].value_counts()"
   ]
  },
  {
   "cell_type": "markdown",
   "metadata": {},
   "source": [
    "To address the drastic differences in distribution of cities across regions, we will be analyzing plots based on proportions rather than counts."
   ]
  },
  {
   "cell_type": "code",
   "execution_count": 25,
   "metadata": {},
   "outputs": [
    {
     "data": {
      "image/png": "[encoded data removed]",
      "text/plain": [
       "<Figure size 1500x500 with 2 Axes>"
      ]
     },
     "metadata": {},
     "output_type": "display_data"
    }
   ],
   "source": [
    "#create proportion df for crime rates by region\n",
    "\n",
    "prop_crime = (crime_and_housing_val.groupby(['Region'])['Violent Crime Rate']\n",
    "           .value_counts(normalize=True)\n",
    "           .rename('proportion')\n",
    "           .reset_index())\n",
    "\n",
    "#create proportion df for housing values by region\n",
    "\n",
    "prop_housing = (crime_and_housing_val.groupby(['Region'])['average_2022']\n",
    "           .value_counts(normalize=True)\n",
    "           .rename('proportion')\n",
    "           .reset_index())\n",
    "\n",
    "\n",
    "plt.figure(figsize=(15, 5))\n",
    "\n",
    "#customize palette\n",
    "color_palette = sns.color_palette(\"tab10\", n_colors=10)\n",
    "\n",
    "plt.subplot(1, 2, 1)\n",
    "sns.boxplot(x='Region', y='Violent Crime Rate', data=prop_crime, palette = color_palette)\n",
    "plt.xlabel('Region', fontsize=16)\n",
    "plt.ylabel('Violent Crime Rate', fontsize=16)\n",
    "plt.title('Violent Crime Rate (per 100,000 people)', fontsize = 18)\n",
    "plt.xticks(fontsize=16)\n",
    "plt.yticks(fontsize=16)\n",
    "\n",
    "\n",
    "plt.subplot(1, 2, 2)\n",
    "sns.boxplot(x='Region', y='average_2022', data=prop_housing, palette = color_palette)\n",
    "plt.xlabel('Region', fontsize=16)\n",
    "plt.ylabel('average_2022', fontsize=16)\n",
    "plt.title('ZHVI by Region', fontsize = 18)\n",
    "\n",
    "plt.xticks(fontsize=16)\n",
    "plt.yticks(fontsize=16)\n",
    "\n",
    "plt.show()"
   ]
  },
  {
   "cell_type": "markdown",
   "metadata": {},
   "source": [
    "Comparing Violent Crime Rate proportions side by side with Home Value Indices (ZHVI), The Midwest is more skewed toward higher violent crime rates and has the lowest concentration of home value indices."
   ]
  },
  {
   "cell_type": "markdown",
   "metadata": {},
   "source": [
    "## Section 3: Averages and Spearmen Correlation between Crime Rate and Home Value Index (ZHVI) by Region\n",
    "\n",
    "Now that we have region breakdowns for the crime and housing dataset, we are interested in computing \n",
    "descriptive statistics and Spearmen Correlations on each region to determine how the correlation differs based on region."
   ]
  },
  {
   "cell_type": "code",
   "execution_count": 26,
   "metadata": {},
   "outputs": [],
   "source": [
    "# filter/separate merged dataset by regions\n",
    "northeast = crime_and_housing_val[crime_and_housing_val['State'].isin(northeast)]\n",
    "midwest = crime_and_housing_val[crime_and_housing_val['State'].isin(midwest)]\n",
    "south = crime_and_housing_val[crime_and_housing_val['State'].isin(south)]\n",
    "west = crime_and_housing_val[crime_and_housing_val['State'].isin(west)]"
   ]
  },
  {
   "cell_type": "code",
   "execution_count": 27,
   "metadata": {},
   "outputs": [
    {
     "data": {
      "text/html": [
       "<div>\n",
       "<style scoped>\n",
       "    .dataframe tbody tr th:only-of-type {\n",
       "        vertical-align: middle;\n",
       "    }\n",
       "\n",
       "    .dataframe tbody tr th {\n",
       "        vertical-align: top;\n",
       "    }\n",
       "\n",
       "    .dataframe thead th {\n",
       "        text-align: right;\n",
       "    }\n",
       "</style>\n",
       "<table border=\"1\" class=\"dataframe\">\n",
       "  <thead>\n",
       "    <tr style=\"text-align: right;\">\n",
       "      <th></th>\n",
       "      <th>Violent Crime Rate</th>\n",
       "      <th>average_2022</th>\n",
       "    </tr>\n",
       "  </thead>\n",
       "  <tbody>\n",
       "    <tr>\n",
       "      <th>count</th>\n",
       "      <td>13.000000</td>\n",
       "      <td>1.200000e+01</td>\n",
       "    </tr>\n",
       "    <tr>\n",
       "      <th>mean</th>\n",
       "      <td>388.811669</td>\n",
       "      <td>5.380875e+05</td>\n",
       "    </tr>\n",
       "    <tr>\n",
       "      <th>std</th>\n",
       "      <td>176.663847</td>\n",
       "      <td>3.926070e+05</td>\n",
       "    </tr>\n",
       "    <tr>\n",
       "      <th>min</th>\n",
       "      <td>148.913011</td>\n",
       "      <td>1.914114e+05</td>\n",
       "    </tr>\n",
       "    <tr>\n",
       "      <th>25%</th>\n",
       "      <td>295.811798</td>\n",
       "      <td>3.253895e+05</td>\n",
       "    </tr>\n",
       "    <tr>\n",
       "      <th>50%</th>\n",
       "      <td>345.930471</td>\n",
       "      <td>4.272104e+05</td>\n",
       "    </tr>\n",
       "    <tr>\n",
       "      <th>75%</th>\n",
       "      <td>527.279239</td>\n",
       "      <td>6.096336e+05</td>\n",
       "    </tr>\n",
       "    <tr>\n",
       "      <th>max</th>\n",
       "      <td>696.959078</td>\n",
       "      <td>1.663848e+06</td>\n",
       "    </tr>\n",
       "  </tbody>\n",
       "</table>\n",
       "</div>"
      ],
      "text/plain": [
       "       Violent Crime Rate  average_2022\n",
       "count           13.000000  1.200000e+01\n",
       "mean           388.811669  5.380875e+05\n",
       "std            176.663847  3.926070e+05\n",
       "min            148.913011  1.914114e+05\n",
       "25%            295.811798  3.253895e+05\n",
       "50%            345.930471  4.272104e+05\n",
       "75%            527.279239  6.096336e+05\n",
       "max            696.959078  1.663848e+06"
      ]
     },
     "execution_count": 27,
     "metadata": {},
     "output_type": "execute_result"
    }
   ],
   "source": [
    "# northeast descriptive statistics\n",
    "northeast.describe()"
   ]
  },
  {
   "cell_type": "code",
   "execution_count": 28,
   "metadata": {},
   "outputs": [
    {
     "data": {
      "text/html": [
       "<div>\n",
       "<style scoped>\n",
       "    .dataframe tbody tr th:only-of-type {\n",
       "        vertical-align: middle;\n",
       "    }\n",
       "\n",
       "    .dataframe tbody tr th {\n",
       "        vertical-align: top;\n",
       "    }\n",
       "\n",
       "    .dataframe thead th {\n",
       "        text-align: right;\n",
       "    }\n",
       "</style>\n",
       "<table border=\"1\" class=\"dataframe\">\n",
       "  <thead>\n",
       "    <tr style=\"text-align: right;\">\n",
       "      <th></th>\n",
       "      <th>Violent Crime Rate</th>\n",
       "      <th>average_2022</th>\n",
       "    </tr>\n",
       "  </thead>\n",
       "  <tbody>\n",
       "    <tr>\n",
       "      <th>count</th>\n",
       "      <td>32.000000</td>\n",
       "      <td>32.000000</td>\n",
       "    </tr>\n",
       "    <tr>\n",
       "      <th>mean</th>\n",
       "      <td>523.183258</td>\n",
       "      <td>233259.354064</td>\n",
       "    </tr>\n",
       "    <tr>\n",
       "      <th>std</th>\n",
       "      <td>353.851104</td>\n",
       "      <td>103409.122198</td>\n",
       "    </tr>\n",
       "    <tr>\n",
       "      <th>min</th>\n",
       "      <td>45.393085</td>\n",
       "      <td>71702.600692</td>\n",
       "    </tr>\n",
       "    <tr>\n",
       "      <th>25%</th>\n",
       "      <td>249.806220</td>\n",
       "      <td>168901.001485</td>\n",
       "    </tr>\n",
       "    <tr>\n",
       "      <th>50%</th>\n",
       "      <td>412.215491</td>\n",
       "      <td>208986.562267</td>\n",
       "    </tr>\n",
       "    <tr>\n",
       "      <th>75%</th>\n",
       "      <td>849.651684</td>\n",
       "      <td>287408.543385</td>\n",
       "    </tr>\n",
       "    <tr>\n",
       "      <th>max</th>\n",
       "      <td>1410.700185</td>\n",
       "      <td>490957.958493</td>\n",
       "    </tr>\n",
       "  </tbody>\n",
       "</table>\n",
       "</div>"
      ],
      "text/plain": [
       "       Violent Crime Rate   average_2022\n",
       "count           32.000000      32.000000\n",
       "mean           523.183258  233259.354064\n",
       "std            353.851104  103409.122198\n",
       "min             45.393085   71702.600692\n",
       "25%            249.806220  168901.001485\n",
       "50%            412.215491  208986.562267\n",
       "75%            849.651684  287408.543385\n",
       "max           1410.700185  490957.958493"
      ]
     },
     "execution_count": 28,
     "metadata": {},
     "output_type": "execute_result"
    }
   ],
   "source": [
    "#midwest descriptive statistics\n",
    "midwest.describe()"
   ]
  },
  {
   "cell_type": "code",
   "execution_count": 29,
   "metadata": {},
   "outputs": [
    {
     "data": {
      "text/html": [
       "<div>\n",
       "<style scoped>\n",
       "    .dataframe tbody tr th:only-of-type {\n",
       "        vertical-align: middle;\n",
       "    }\n",
       "\n",
       "    .dataframe tbody tr th {\n",
       "        vertical-align: top;\n",
       "    }\n",
       "\n",
       "    .dataframe thead th {\n",
       "        text-align: right;\n",
       "    }\n",
       "</style>\n",
       "<table border=\"1\" class=\"dataframe\">\n",
       "  <thead>\n",
       "    <tr style=\"text-align: right;\">\n",
       "      <th></th>\n",
       "      <th>Violent Crime Rate</th>\n",
       "      <th>average_2022</th>\n",
       "    </tr>\n",
       "  </thead>\n",
       "  <tbody>\n",
       "    <tr>\n",
       "      <th>count</th>\n",
       "      <td>70.000000</td>\n",
       "      <td>70.000000</td>\n",
       "    </tr>\n",
       "    <tr>\n",
       "      <th>mean</th>\n",
       "      <td>385.838530</td>\n",
       "      <td>316623.388311</td>\n",
       "    </tr>\n",
       "    <tr>\n",
       "      <th>std</th>\n",
       "      <td>308.247984</td>\n",
       "      <td>134843.216257</td>\n",
       "    </tr>\n",
       "    <tr>\n",
       "      <th>min</th>\n",
       "      <td>62.452528</td>\n",
       "      <td>145509.404617</td>\n",
       "    </tr>\n",
       "    <tr>\n",
       "      <th>25%</th>\n",
       "      <td>149.243042</td>\n",
       "      <td>209671.393363</td>\n",
       "    </tr>\n",
       "    <tr>\n",
       "      <th>50%</th>\n",
       "      <td>339.649901</td>\n",
       "      <td>285018.440589</td>\n",
       "    </tr>\n",
       "    <tr>\n",
       "      <th>75%</th>\n",
       "      <td>536.570960</td>\n",
       "      <td>381260.191029</td>\n",
       "    </tr>\n",
       "    <tr>\n",
       "      <th>max</th>\n",
       "      <td>1720.086720</td>\n",
       "      <td>728057.893409</td>\n",
       "    </tr>\n",
       "  </tbody>\n",
       "</table>\n",
       "</div>"
      ],
      "text/plain": [
       "       Violent Crime Rate   average_2022\n",
       "count           70.000000      70.000000\n",
       "mean           385.838530  316623.388311\n",
       "std            308.247984  134843.216257\n",
       "min             62.452528  145509.404617\n",
       "25%            149.243042  209671.393363\n",
       "50%            339.649901  285018.440589\n",
       "75%            536.570960  381260.191029\n",
       "max           1720.086720  728057.893409"
      ]
     },
     "execution_count": 29,
     "metadata": {},
     "output_type": "execute_result"
    }
   ],
   "source": [
    "# south descriptive statistics\n",
    "south.describe()"
   ]
  },
  {
   "cell_type": "code",
   "execution_count": 30,
   "metadata": {},
   "outputs": [
    {
     "data": {
      "text/html": [
       "<div>\n",
       "<style scoped>\n",
       "    .dataframe tbody tr th:only-of-type {\n",
       "        vertical-align: middle;\n",
       "    }\n",
       "\n",
       "    .dataframe tbody tr th {\n",
       "        vertical-align: top;\n",
       "    }\n",
       "\n",
       "    .dataframe thead th {\n",
       "        text-align: right;\n",
       "    }\n",
       "</style>\n",
       "<table border=\"1\" class=\"dataframe\">\n",
       "  <thead>\n",
       "    <tr style=\"text-align: right;\">\n",
       "      <th></th>\n",
       "      <th>Violent Crime Rate</th>\n",
       "      <th>average_2022</th>\n",
       "    </tr>\n",
       "  </thead>\n",
       "  <tbody>\n",
       "    <tr>\n",
       "      <th>count</th>\n",
       "      <td>62.000000</td>\n",
       "      <td>6.200000e+01</td>\n",
       "    </tr>\n",
       "    <tr>\n",
       "      <th>mean</th>\n",
       "      <td>368.179761</td>\n",
       "      <td>6.532530e+05</td>\n",
       "    </tr>\n",
       "    <tr>\n",
       "      <th>std</th>\n",
       "      <td>259.752009</td>\n",
       "      <td>3.438669e+05</td>\n",
       "    </tr>\n",
       "    <tr>\n",
       "      <th>min</th>\n",
       "      <td>82.069019</td>\n",
       "      <td>2.533150e+05</td>\n",
       "    </tr>\n",
       "    <tr>\n",
       "      <th>25%</th>\n",
       "      <td>194.298718</td>\n",
       "      <td>4.596614e+05</td>\n",
       "    </tr>\n",
       "    <tr>\n",
       "      <th>50%</th>\n",
       "      <td>293.156690</td>\n",
       "      <td>5.475688e+05</td>\n",
       "    </tr>\n",
       "    <tr>\n",
       "      <th>75%</th>\n",
       "      <td>492.230956</td>\n",
       "      <td>7.625480e+05</td>\n",
       "    </tr>\n",
       "    <tr>\n",
       "      <th>max</th>\n",
       "      <td>1191.981461</td>\n",
       "      <td>2.106102e+06</td>\n",
       "    </tr>\n",
       "  </tbody>\n",
       "</table>\n",
       "</div>"
      ],
      "text/plain": [
       "       Violent Crime Rate  average_2022\n",
       "count           62.000000  6.200000e+01\n",
       "mean           368.179761  6.532530e+05\n",
       "std            259.752009  3.438669e+05\n",
       "min             82.069019  2.533150e+05\n",
       "25%            194.298718  4.596614e+05\n",
       "50%            293.156690  5.475688e+05\n",
       "75%            492.230956  7.625480e+05\n",
       "max           1191.981461  2.106102e+06"
      ]
     },
     "execution_count": 30,
     "metadata": {},
     "output_type": "execute_result"
    }
   ],
   "source": [
    "# west descriptive statistics\n",
    "west.describe()"
   ]
  },
  {
   "cell_type": "code",
   "execution_count": 31,
   "metadata": {},
   "outputs": [
    {
     "name": "stderr",
     "output_type": "stream",
     "text": [
      "/var/folders/c_/kyzb5x6n5w92bd7g2zz722zh0000gn/T/ipykernel_13293/3329642222.py:4: FutureWarning: The default value of numeric_only in DataFrame.mean is deprecated. In a future version, it will default to False. In addition, specifying 'numeric_only=None' is deprecated. Select only valid columns or specify the value of numeric_only to silence this warning.\n",
      "  'northeast': northeast.mean(),\n",
      "/var/folders/c_/kyzb5x6n5w92bd7g2zz722zh0000gn/T/ipykernel_13293/3329642222.py:5: FutureWarning: The default value of numeric_only in DataFrame.mean is deprecated. In a future version, it will default to False. In addition, specifying 'numeric_only=None' is deprecated. Select only valid columns or specify the value of numeric_only to silence this warning.\n",
      "  'midwest': midwest.mean(),\n",
      "/var/folders/c_/kyzb5x6n5w92bd7g2zz722zh0000gn/T/ipykernel_13293/3329642222.py:6: FutureWarning: The default value of numeric_only in DataFrame.mean is deprecated. In a future version, it will default to False. In addition, specifying 'numeric_only=None' is deprecated. Select only valid columns or specify the value of numeric_only to silence this warning.\n",
      "  'south': south.mean(),\n",
      "/var/folders/c_/kyzb5x6n5w92bd7g2zz722zh0000gn/T/ipykernel_13293/3329642222.py:7: FutureWarning: The default value of numeric_only in DataFrame.mean is deprecated. In a future version, it will default to False. In addition, specifying 'numeric_only=None' is deprecated. Select only valid columns or specify the value of numeric_only to silence this warning.\n",
      "  'west': west.mean()\n"
     ]
    },
    {
     "data": {
      "text/html": [
       "<div>\n",
       "<style scoped>\n",
       "    .dataframe tbody tr th:only-of-type {\n",
       "        vertical-align: middle;\n",
       "    }\n",
       "\n",
       "    .dataframe tbody tr th {\n",
       "        vertical-align: top;\n",
       "    }\n",
       "\n",
       "    .dataframe thead th {\n",
       "        text-align: right;\n",
       "    }\n",
       "</style>\n",
       "<table border=\"1\" class=\"dataframe\">\n",
       "  <thead>\n",
       "    <tr style=\"text-align: right;\">\n",
       "      <th></th>\n",
       "      <th>Violent Crime Rate</th>\n",
       "      <th>average_2022</th>\n",
       "    </tr>\n",
       "  </thead>\n",
       "  <tbody>\n",
       "    <tr>\n",
       "      <th>midwest</th>\n",
       "      <td>523.183258</td>\n",
       "      <td>233259.354064</td>\n",
       "    </tr>\n",
       "    <tr>\n",
       "      <th>northeast</th>\n",
       "      <td>388.811669</td>\n",
       "      <td>538087.532439</td>\n",
       "    </tr>\n",
       "    <tr>\n",
       "      <th>south</th>\n",
       "      <td>385.838530</td>\n",
       "      <td>316623.388311</td>\n",
       "    </tr>\n",
       "    <tr>\n",
       "      <th>west</th>\n",
       "      <td>368.179761</td>\n",
       "      <td>653252.965102</td>\n",
       "    </tr>\n",
       "  </tbody>\n",
       "</table>\n",
       "</div>"
      ],
      "text/plain": [
       "           Violent Crime Rate   average_2022\n",
       "midwest            523.183258  233259.354064\n",
       "northeast          388.811669  538087.532439\n",
       "south              385.838530  316623.388311\n",
       "west               368.179761  653252.965102"
      ]
     },
     "execution_count": 31,
     "metadata": {},
     "output_type": "execute_result"
    }
   ],
   "source": [
    "#create dataframe showing descending avg Violent Crime Rates and Corresponding Home Value Indices\n",
    "\n",
    "avg_region = {\n",
    "    'northeast': northeast.mean(),\n",
    "    'midwest': midwest.mean(),\n",
    "    'south': south.mean(),\n",
    "    'west': west.mean()\n",
    "}\n",
    "\n",
    "avg_region_df = pd.DataFrame(avg_region)\n",
    "avg_region_df = avg_region_df.transpose()\n",
    "avg_region_df.sort_values(by = 'Violent Crime Rate', ascending = False)"
   ]
  },
  {
   "cell_type": "markdown",
   "metadata": {},
   "source": [
    "With these descriptive statistics, we can compare the characteristics of each region. Again, we can see that the Midwest has the highest mean violent crime rate at about 523.18, but the lowest average home value index at about 233259.35. Conversely, we can also see that the West has the lowest mean violent crime rate at about 368.18 and the highest average home value index at about 6.53e+05. The northeast does not follow the predicted trend; despite being ranked as the second highest crime rate region, it still has a relatively high average home value index and is ranked as the second most expensive."
   ]
  },
  {
   "cell_type": "markdown",
   "metadata": {},
   "source": [
    "Beyond these averages, we will conduct Spearmen correlations to seeing whether or not there is a connection between home value index and crime rate which might provide any corroborating statistics by region."
   ]
  },
  {
   "cell_type": "code",
   "execution_count": 33,
   "metadata": {},
   "outputs": [
    {
     "name": "stdout",
     "output_type": "stream",
     "text": [
      "northeast: -0.4895104895104896 \n",
      "midwest: -0.6451612903225806 \n",
      "south: -0.5566792056687954 \n",
      "west: -0.4245423182493516\n"
     ]
    }
   ],
   "source": [
    "#spearmen correlations by region\n",
    "northeast_spearman = northeast['Violent Crime Rate'].corr(northeast['average_2022'], method='spearman')\n",
    "midwest_spearman = midwest['Violent Crime Rate'].corr(midwest['average_2022'], method='spearman')\n",
    "south_spearman = south['Violent Crime Rate'].corr(south['average_2022'], method='spearman')\n",
    "west_spearman = west['Violent Crime Rate'].corr(west['average_2022'], method='spearman')\n",
    "\n",
    "print(\"northeast:\", northeast_spearman, \"\\nmidwest:\", midwest_spearman, \"\\nsouth:\", south_spearman, \"\\nwest:\", west_spearman)"
   ]
  },
  {
   "cell_type": "markdown",
   "metadata": {},
   "source": [
    "Upon conducting a Spearman correlation analysis between violent crime rates and average home values across all regions, we observed a consistent negative correlation. This suggests that areas with lower violent crime rates tend to exhibit higher average home values, while regions with higher crime rates tend to have lower average home values. The strongest negative correlation was observed in the Midwest, followed by the South, Northeast, and West.\n",
    "\n",
    "In the **Midwest** region, we found the strongest negative correlation, with a Spearman correlation coefficient of about **-0.65**. This information is consistent with our boxplots above, as we saw the Midwest had higher crime rates and a low concentration of home value indices than the other regions. \n",
    "\n",
    "Following the Midwest, the **South** region exhibited the next strongest negative correlation, with a coefficient of **-0.56**. In the **Northeast** region, we observed a moderate negative correlation, with a coefficient of **-0.49**. Lastly, the **West** region displayed the weakest negative correlation, with a coefficient of **-0.42**. Overall, these Spearman correlation coefficients are not strong enough to be considered causational, but they do provide valuable insights into the relationship between violent crime rates and average home values for these regions. "
   ]
  },
  {
   "cell_type": "markdown",
   "metadata": {},
   "source": [
    "# Ethics & Privacy"
   ]
  },
  {
   "cell_type": "markdown",
   "metadata": {},
   "source": [
    "One potential bias comes from data collection from the Crime dataset which only collects crime rate from cities which are reported to the FBI. This may pose issues in the accuracy of our findings regarding the connection between housing values and safety. In 2021, the FBI began to require police departments to send their information through a new National Incident-Based Reporting System (NIBRS)<a name=\"cite_ref-8\"></a>[<sup>8</sup>](#cite_note-8). Many departments were unable to format their data to be NIBRS compliant and this led to the FBI only being able to account for 76.9% of the US population by the end of 2022<a name=\"cite_ref-8\"></a>[<sup>8</sup>](#cite_note-8),<a name=\"cite_ref-9\"></a>[<sup>9</sup>](#cite_note-9). To give a few examples, the 2022 data did not include prominent cities such as New York City, Los Angeles, and San Francisco. Low participation makes it harder for our group to understand crime trends accross the US, and particularly in the areas in which the police department did not report their crime data. Furthermore, when this data is mapped out, there are noticeably more crime rate reports from cities in southern parts of the United States and on the East Coast while there are fewer from the western side of the United States. To address this, we would also need to communicate confounding variables which may explain why more cities in the South would be reported; reasons may include gentrification, poverty rates, and affluence in those areas. \n",
    "\n",
    "An ethical concern may be what equitable impacts that may result from this research. For example, if the cities we are extracting data from are high crime/low safety rating cities, that may, in turn, depreciate or impact home value. Similar to crime mapping where one is able to visualize patterns where crime is happening, there may be adverse effects on populations and communities in areas where high crime is identified. Understanding that our project is adjacent to crime mapping, we acknowledge that crime mapping can be used to prepetuate narratives against under-represented groups. Our project looks to avoid this by not including any demographic data in our analysis. "
   ]
  },
  {
   "cell_type": "markdown",
   "metadata": {},
   "source": [
    "# Discussion and Conclusion\n",
    "\n",
    "After exploring and analyzing our data on differing home values in accordance with crime rates, we reject our hypothesis that cities with higher housing values are associated with lower crime rates, while cities with lower housing values are associated with higher crime rates. Each region possesses a negative correlation in the spearman correlation tests we ran, with the Midwest showing the strongest negative correlation, indicating low housing values and high crime rates, which is consistent with our hypothesis. While the Northeast, South, and North regions also show a negative correlation, they are not strong enough to make a statement on whether our data and analysis supports our hypothesis, hence why we reject it. Ultimately, there are no profound findings that would lead us to firmly conclude whether or not home values are correlated with certain crime rates. \n",
    "\n",
    "Our team tackled the problem from the point of view of a prospective home buyer who cares about violent crime and is looking for a single family home. While we found that the connection between violent crime and home values is weak, our project does not extrapolate this trend to include nonviolent crimes (e.g. theft) or other types of living situations. However, as our data found a weak correlation between violent crime and single family housing value, we might expect nonviolent crimes and the value of other types of living situations to follow a similar weak negative correlation. In which, low housing values weakly correspond to high crime rates, and vice versa.     \n",
    "\n",
    "We started off our exploratory data analysis with plotting each dataset in a histogram in order to get a better understanding of our data. The analysis of these plots provided valuable initial insight into the distribution of single-family home indices and violent crime rate and sheds light on the validity of our initial assumptions. The distribution of violent crime rate was skewed to the right, with most cities having a violent crime rate of less than 1000. Similarly, the distribution of the average ZHVI in 2022 was right-skewed, with most cities having an average ZHVI of less than 1,000,000. These histograms showed some discrepancies between the observed data and our hypothesis, as we initially expected a linear relationship. However, as both datasets are right-skewed, we expected a scatterplot to exhibit this as well. This was confirmed when we plotted the two variables in a scatter plot with violent crime rate along the x-axis and the ZHVI average along the y-axis. We saw a non-linear trend, so we were unable to conduct linear regression as we were planning on doing. While these deviations may initially appear to contradict our hypothesis, we noticed that the scatter plot had a slight downward, negative trend, so we moved forward with conducting a Spearman Correlation test as we could instead analyze these variables as a monotonic relationship. We calculated the Spearman Correlation coefficient to be -0.45, indicating a moderate negative correlation between our two variables whereas the ZHVI average decreases, the violent crime rate increases and vice versa. This contradicts our hypothesis as this is not as strong of a correlation as we intended, but we examined this further in our region breakdown. \n",
    "\n",
    "To further examine our data on a regional scale, we analyzed the U.S. based on four regions: the Northeast, Midwest, South, and West. Each observation from the crime_and_housing_val dataset including 40 states are assigned to a region (10 states are excluded as their crime rates were not reported to the FBI). From sampling the observations with the top ten and bottom ten crime rates and home value indices, we notice that there is no outstanding trend in cities which follow our hypothesis. However, there is a pattern in one region which corresponds with our hypothesis: The Midwest appears the most in the top ten highest crime rate observations and in the lowest home value indices. Using boxplots to interpret the entire dataset, we notice that this pattern is true across the entire dataset for the Midwest where the majority of reported cities in the Midwest have higher violent crime rates and home value indices below $500,000, averaging below all other regions. Running descriptive statistics on each region, we notice that the only region that doesn’t follow our predicted trend is the northeast, which has the second highest crime rate average, but also the second highest home value index. To test whether or not there is a strong relationship between the two variables, we used Spearman correlations to further understand our data. Spearman correlations by region all indicate negative relationships with the Midwest having the strongest correlation of approximately -0.65 while the correlations for the Northeast, South, and West are more moderate. \n",
    "\n",
    "In terms of future work, our methodology can be applied to 2023’s and future datasets to ascertain whether the weak correlation and trends we discovered persist between different years. Unlike the 2022 datasets we used, datasets from future years will likely include statistics on a larger number of U.S. cities. While our 2022 datasets only accounted for 76.9% of the U.S. city population, future projects should more accurately reveal trends between violent crime and housing value. \n",
    "\n",
    "# Team Contributions\n",
    "\n",
    "- Natalie: Found Zillow source for dataset and created merged dataset. Wrote code for data cleaning/wrangling/style for ZHVI and Section 2 of EDA to analyze patterns by region/create region boxplots. Explained visualizations in part of the conclusion. Helped determine which correlation tests should be run.\n",
    "- Edward: Wrote abstract and part of conclusion explaining what patterns arose and if we expected it. Helped expand on Background & Prior Works by finding related works and explaining their importance. Also helped find & clean FBI Crime Rate data as well as generate multiple EDA plots (histogram and scatterplot). \n",
    "- Jasmine: Helped clean ZHVI dataset. Helped with histogram plots in EDA. Helped with Section 3 of EDA. Wrote part of conclusion explaining plots in Section 1 of EDA.\n",
    "- James: Helped find Crime Rate Dataset. Wrote Ethics and part of Background. Helped with histogram plots in EDA. Wrote part of conclusion pertaining to background, confounds, and ethics. \n",
    "- Jan: Brainstormed topics. Helped write part of the conclusion explaining why we reject our hypothesis. Contributed to ethics and privacy. Helped with boxplots and Section 3 of EDA."
   ]
  },
  {
   "cell_type": "markdown",
   "metadata": {},
   "source": [
    "# Works Cited\n",
    "\n",
    "1. <a name=\"cite_note-1\"></a> [^](#cite_ref-1) Florida, R. (28 May 2019) Young People’s Love of Cities Isn’t a Passing Fad. *Bloomberg*. https://www.bloomberg.com/news/articles/2019-05-28/u-s-millennials-really-do-prefer-cities \n",
    "2. <a name=\"cite_note-2\"></a> [^](#cite_ref-2) Melanie Davern et al. (16 September 2019) We must address these 3 factors, to make our cities more vibrant and ‘liveable’. *World Economic Forum* https://www.weforum.org/agenda/2019/09/this-is-what-makes-a-city-liveable/\n",
    "3. <a name=\"cite_note-3\"></a> [^](#cite_ref-3) (21 December 2022) Which cities have the highest or lowest crime rates?. *USAFacts* https://usafacts.org/articles/how-does-crime-compare-by-city-in-2021/\n",
    "4. <a name=\"cite_note-4\"></a> [^](#cite_ref-4) Olya, G. (24 April 2019) America’s Safest (and Most Affordable) Places to Live. *Yahoo Finance* https://finance.yahoo.com/news/america-safest-most-affordable-places-090000118.html\n",
    "5. <a name=\"cite_note-5\"></a> [^](#cite_ref-5) Nuñez, C. (27 May 2015) Is your city safe? Here are some things worth considering. *Global Citizen* https://www.globalcitizen.org/en/content/is-your-city-safe-here-are-some-things-worth-consi/\n",
    "6. <a name=\"cite_note-6\"></a> [^](#cite_ref-6) Department of Justice Violent Crime. *Department of Justice* https://nij.ojp.gov/topics/crimes/violent-crime\n",
    "7. <a name=\"cite_note-7\"></a> [^](#cite_ref-7) Wikipedia. List of US Cities by population. *Wikipedia* https://en.wikipedia.org/wiki/List_of_United_States_cities_by_population\n",
    "8. <a name=\"cite_note-8\"></a> [^](#cite_ref-8) The Marshall Project. (8 October 2022) The Problem with the FBI's Missing Crime Data. *The Marshall Project* https://www.themarshallproject.org/2022/10/08/the-problem-with-the-fbi-s-missing-crime-data\n",
    "9. <a name=\"cite_note-9\"></a> [^](#cite_ref-9) Federal Bureau of Investigation. (16 October 2023) FBI Releases 2022 Crime in the Nation Statistics. *Federal Bureau of Investigation* https://www.fbi.gov/news/press-releases/fbi-releases-2022-crime-in-the-nation-statistics\n",
    "10. <a name=\"cite_note-10\"></a> [^](#cite_ref-10) Wikipedia Contributors. (15 Oct. 2019) “List of Regions of the United States.” *Wikipedia, Wikimedia Foundation*\n",
    "https://en.wikipedia.org/wiki/List_of_regions_of_the_United_States"
   ]
  }
 ],
 "metadata": {
  "kernelspec": {
   "display_name": "Python 3 (ipykernel)",
   "language": "python",
   "name": "python3"
  },
  "language_info": {
   "codemirror_mode": {
    "name": "ipython",
    "version": 3
   },
   "file_extension": ".py",
   "mimetype": "text/x-python",
   "name": "python",
   "nbconvert_exporter": "python",
   "pygments_lexer": "ipython3",
   "version": "3.10.9"
  }
 },
 "nbformat": 4,
 "nbformat_minor": 4
}
